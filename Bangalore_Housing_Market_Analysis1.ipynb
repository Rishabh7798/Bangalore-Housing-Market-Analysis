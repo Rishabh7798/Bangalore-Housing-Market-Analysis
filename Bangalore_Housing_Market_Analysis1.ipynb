{
  "nbformat": 4,
  "nbformat_minor": 0,
  "metadata": {
    "colab": {
      "provenance": []
    },
    "kernelspec": {
      "name": "python3",
      "display_name": "Python 3"
    },
    "language_info": {
      "name": "python"
    }
  },
  "cells": [
    {
      "cell_type": "markdown",
      "source": [
        "# Bangalore Housing Market Analysis"
      ],
      "metadata": {
        "id": "iaTv6ifz-4lo"
      }
    },
    {
      "cell_type": "code",
      "source": [
        "import pandas as pd\n",
        "import numpy as np\n",
        "import matplotlib.pyplot as plt\n",
        "import seaborn as sns"
      ],
      "metadata": {
        "id": "pw07ZQFqEEfv"
      },
      "execution_count": 14,
      "outputs": []
    },
    {
      "cell_type": "code",
      "source": [
        "# Load the dataset\n",
        "data = pd.read_csv('/content/BHP.csv')"
      ],
      "metadata": {
        "id": "kOAj8g-hEFt_"
      },
      "execution_count": 15,
      "outputs": []
    },
    {
      "cell_type": "code",
      "source": [
        "# Display basic information about the dataset\n",
        "print(\"Dataset Overview:\")\n",
        "data.info()\n",
        "\n",
        "# Check for missing values\n",
        "print(\"\\nMissing Values:\")\n",
        "print(data.isnull().sum())"
      ],
      "metadata": {
        "colab": {
          "base_uri": "https://localhost:8080/"
        },
        "id": "VJgivlmgEHDg",
        "outputId": "236fb53c-128b-4307-bec0-945bc3b53bae"
      },
      "execution_count": 16,
      "outputs": [
        {
          "output_type": "stream",
          "name": "stdout",
          "text": [
            "Dataset Overview:\n",
            "<class 'pandas.core.frame.DataFrame'>\n",
            "RangeIndex: 13320 entries, 0 to 13319\n",
            "Data columns (total 9 columns):\n",
            " #   Column        Non-Null Count  Dtype  \n",
            "---  ------        --------------  -----  \n",
            " 0   area_type     13320 non-null  object \n",
            " 1   availability  13320 non-null  object \n",
            " 2   location      13319 non-null  object \n",
            " 3   size          13304 non-null  object \n",
            " 4   society       7818 non-null   object \n",
            " 5   total_sqft    13320 non-null  object \n",
            " 6   bath          13247 non-null  float64\n",
            " 7   balcony       12711 non-null  float64\n",
            " 8   price         13320 non-null  float64\n",
            "dtypes: float64(3), object(6)\n",
            "memory usage: 936.7+ KB\n",
            "\n",
            "Missing Values:\n",
            "area_type          0\n",
            "availability       0\n",
            "location           1\n",
            "size              16\n",
            "society         5502\n",
            "total_sqft         0\n",
            "bath              73\n",
            "balcony          609\n",
            "price              0\n",
            "dtype: int64\n"
          ]
        }
      ]
    },
    {
      "cell_type": "markdown",
      "source": [
        "# Task 1: Data Cleaning\n"
      ],
      "metadata": {
        "id": "VB2_VYrVEKiI"
      }
    },
    {
      "cell_type": "code",
      "source": [
        "# Drop rows with missing location values\n",
        "data = data.dropna(subset=['location'])\n",
        "\n",
        "# Fill missing values for 'bath' and 'balcony' with their respective medians\n",
        "data['bath'].fillna(data['bath'].median(), inplace=True)\n",
        "data['balcony'].fillna(data['balcony'].median(), inplace=True)\n",
        "\n",
        "# Handle 'size' column to extract numerical BHK/Bedrooms\n",
        "# Replace 'Bedroom' with 'BHK' for consistency\n",
        "data['size'] = data['size'].str.replace('Bedroom', 'BHK', regex=False)\n",
        "data['bhk'] = data['size'].str.extract('(\\d+)').astype(float)\n",
        "\n",
        "# Handle 'total_sqft' column to deal with ranges and convert to numerical values\n",
        "def convert_sqft_to_num(x):\n",
        "    try:\n",
        "        if '-' in x:\n",
        "            tokens = x.split('-')\n",
        "            return (float(tokens[0]) + float(tokens[1])) / 2\n",
        "        return float(x)\n",
        "    except:\n",
        "        return None\n",
        "\n",
        "data['total_sqft'] = data['total_sqft'].apply(convert_sqft_to_num)\n",
        "\n",
        "# Drop rows where 'total_sqft' is still null after conversion\n",
        "data = data.dropna(subset=['total_sqft'])"
      ],
      "metadata": {
        "colab": {
          "base_uri": "https://localhost:8080/"
        },
        "id": "YWQRiI8oEMPw",
        "outputId": "3a4ed34a-f4a1-4979-fe93-a63d4dcc1b28"
      },
      "execution_count": 17,
      "outputs": [
        {
          "output_type": "stream",
          "name": "stderr",
          "text": [
            "<ipython-input-17-a796d182181e>:5: FutureWarning: A value is trying to be set on a copy of a DataFrame or Series through chained assignment using an inplace method.\n",
            "The behavior will change in pandas 3.0. This inplace method will never work because the intermediate object on which we are setting values always behaves as a copy.\n",
            "\n",
            "For example, when doing 'df[col].method(value, inplace=True)', try using 'df.method({col: value}, inplace=True)' or df[col] = df[col].method(value) instead, to perform the operation inplace on the original object.\n",
            "\n",
            "\n",
            "  data['bath'].fillna(data['bath'].median(), inplace=True)\n",
            "<ipython-input-17-a796d182181e>:5: SettingWithCopyWarning: \n",
            "A value is trying to be set on a copy of a slice from a DataFrame\n",
            "\n",
            "See the caveats in the documentation: https://pandas.pydata.org/pandas-docs/stable/user_guide/indexing.html#returning-a-view-versus-a-copy\n",
            "  data['bath'].fillna(data['bath'].median(), inplace=True)\n",
            "<ipython-input-17-a796d182181e>:6: FutureWarning: A value is trying to be set on a copy of a DataFrame or Series through chained assignment using an inplace method.\n",
            "The behavior will change in pandas 3.0. This inplace method will never work because the intermediate object on which we are setting values always behaves as a copy.\n",
            "\n",
            "For example, when doing 'df[col].method(value, inplace=True)', try using 'df.method({col: value}, inplace=True)' or df[col] = df[col].method(value) instead, to perform the operation inplace on the original object.\n",
            "\n",
            "\n",
            "  data['balcony'].fillna(data['balcony'].median(), inplace=True)\n",
            "<ipython-input-17-a796d182181e>:6: SettingWithCopyWarning: \n",
            "A value is trying to be set on a copy of a slice from a DataFrame\n",
            "\n",
            "See the caveats in the documentation: https://pandas.pydata.org/pandas-docs/stable/user_guide/indexing.html#returning-a-view-versus-a-copy\n",
            "  data['balcony'].fillna(data['balcony'].median(), inplace=True)\n",
            "<ipython-input-17-a796d182181e>:10: SettingWithCopyWarning: \n",
            "A value is trying to be set on a copy of a slice from a DataFrame.\n",
            "Try using .loc[row_indexer,col_indexer] = value instead\n",
            "\n",
            "See the caveats in the documentation: https://pandas.pydata.org/pandas-docs/stable/user_guide/indexing.html#returning-a-view-versus-a-copy\n",
            "  data['size'] = data['size'].str.replace('Bedroom', 'BHK', regex=False)\n",
            "<ipython-input-17-a796d182181e>:11: SettingWithCopyWarning: \n",
            "A value is trying to be set on a copy of a slice from a DataFrame.\n",
            "Try using .loc[row_indexer,col_indexer] = value instead\n",
            "\n",
            "See the caveats in the documentation: https://pandas.pydata.org/pandas-docs/stable/user_guide/indexing.html#returning-a-view-versus-a-copy\n",
            "  data['bhk'] = data['size'].str.extract('(\\d+)').astype(float)\n",
            "<ipython-input-17-a796d182181e>:23: SettingWithCopyWarning: \n",
            "A value is trying to be set on a copy of a slice from a DataFrame.\n",
            "Try using .loc[row_indexer,col_indexer] = value instead\n",
            "\n",
            "See the caveats in the documentation: https://pandas.pydata.org/pandas-docs/stable/user_guide/indexing.html#returning-a-view-versus-a-copy\n",
            "  data['total_sqft'] = data['total_sqft'].apply(convert_sqft_to_num)\n"
          ]
        }
      ]
    },
    {
      "cell_type": "markdown",
      "source": [
        "# Task 2: Feature Engineering\n"
      ],
      "metadata": {
        "id": "agPnr78hEN0I"
      }
    },
    {
      "cell_type": "code",
      "source": [
        "# Add price per square foot (price_per_sqft)\n",
        "data['price_per_sqft'] = data['price'] * 100000 / data['total_sqft']\n",
        "\n",
        "# Create 'property_age_category' based on hypothetical construction year\n",
        "data['property_age'] = np.random.randint(0, 30, data.shape[0])\n",
        "data['property_age_category'] = pd.cut(\n",
        "    data['property_age'],\n",
        "    bins=[0, 1, 5, 10, 20, np.inf],\n",
        "    labels=['New', 'Less than 5 years', '5 to 10 years', '10 to 20 years', 'More than 20 years']\n",
        ")"
      ],
      "metadata": {
        "id": "am0xEHBSEQGo"
      },
      "execution_count": 18,
      "outputs": []
    },
    {
      "cell_type": "markdown",
      "source": [
        "# Task 3: EDA\n"
      ],
      "metadata": {
        "id": "-M5c7mTLERTQ"
      }
    },
    {
      "cell_type": "code",
      "source": [
        "# Visualize the distribution of price per square foot\n",
        "plt.figure(figsize=(10, 6))\n",
        "sns.histplot(data['price_per_sqft'], bins=50, kde=True, color='blue')\n",
        "plt.title('Distribution of Price per Square Foot')\n",
        "plt.xlabel('Price per Square Foot')\n",
        "plt.ylabel('Frequency')\n",
        "plt.show()\n",
        "\n",
        "# Group by locality and calculate average rent\n",
        "data['rent'] = data['price'] * 1000  # Convert lakhs to monthly rent assumption\n",
        "avg_rent_per_locality = data.groupby('location')['rent'].mean().sort_values(ascending=False)\n",
        "print(\"\\nLocality with Highest Average Rent:\")\n",
        "print(avg_rent_per_locality.head(1))\n",
        "\n",
        "# Correlation analysis\n",
        "print(\"\\nCorrelation with Rent:\")\n",
        "correlation = data[['bath', 'total_sqft', 'price', 'balcony']].corr()\n",
        "print(correlation['price'].sort_values(ascending=False))"
      ],
      "metadata": {
        "colab": {
          "base_uri": "https://localhost:8080/",
          "height": 772
        },
        "id": "nEf_kvWcES84",
        "outputId": "e860666b-f71a-4919-bc78-845dfc365451"
      },
      "execution_count": 19,
      "outputs": [
        {
          "output_type": "display_data",
          "data": {
            "text/plain": [
              "<Figure size 1000x600 with 1 Axes>"
            ],
            "image/png": "[encoded data removed]"
          },
          "metadata": {}
        },
        {
          "output_type": "stream",
          "name": "stdout",
          "text": [
            "\n",
            "Locality with Highest Average Rent:\n",
            "location\n",
            "Cubbon Road    1900000.0\n",
            "Name: rent, dtype: float64\n",
            "\n",
            "Correlation with Rent:\n",
            "price         1.000000\n",
            "total_sqft    0.575560\n",
            "bath          0.454096\n",
            "balcony       0.124900\n",
            "Name: price, dtype: float64\n"
          ]
        }
      ]
    },
    {
      "cell_type": "markdown",
      "source": [
        "# Task 4: Hypothesis Testing\n"
      ],
      "metadata": {
        "id": "eSDw7TOdEVef"
      }
    },
    {
      "cell_type": "code",
      "source": [
        "from scipy.stats import ttest_ind\n",
        "\n",
        "data['gym'] = np.random.choice([0, 1], size=data.shape[0])  # Mock gym feature\n",
        "with_gym = data[data['gym'] == 1]['price_per_sqft']\n",
        "without_gym = data[data['gym'] == 0]['price_per_sqft']\n",
        "\n",
        "# Perform T-test\n",
        "t_stat, p_value = ttest_ind(with_gym, without_gym)\n",
        "print(\"\\nT-test Results for Gym vs No Gym:\")\n",
        "print(f\"T-Statistic: {t_stat}, P-Value: {p_value}\")\n",
        "if p_value < 0.05:\n",
        "    print(\"Reject the null hypothesis: Properties with a gym have significantly different price per sqft.\")\n",
        "else:\n",
        "    print(\"Fail to reject the null hypothesis: No significant difference.\")\n"
      ],
      "metadata": {
        "colab": {
          "base_uri": "https://localhost:8080/"
        },
        "id": "KgyTrsboEBxR",
        "outputId": "fc2282bd-c295-444c-9b36-d332594b8941"
      },
      "execution_count": 20,
      "outputs": [
        {
          "output_type": "stream",
          "name": "stdout",
          "text": [
            "\n",
            "T-test Results for Gym vs No Gym:\n",
            "T-Statistic: -0.9696826435992656, P-Value: 0.3322223763570926\n",
            "Fail to reject the null hypothesis: No significant difference.\n"
          ]
        }
      ]
    }
  ]
}